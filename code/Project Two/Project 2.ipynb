{
 "cells": [
  {
   "cell_type": "code",
   "execution_count": 40,
   "metadata": {},
   "outputs": [],
   "source": [
    "%matplotlib inline\n",
    "from modsim import *\n",
    "import numpy as np"
   ]
  },
  {
   "cell_type": "code",
   "execution_count": 66,
   "metadata": {},
   "outputs": [
    {
     "data": {
      "text/plain": [
       "array([  0.      ,  -2.531198,  -5.062396,  -7.593594, -10.124792,\n",
       "       -12.65599 , -15.187188, -17.718386, -20.249584, -22.780782])"
      ]
     },
     "execution_count": 66,
     "metadata": {},
     "output_type": "execute_result"
    }
   ],
   "source": [
    "\"\"\"  Team 4\n",
    "\n",
    "    h: heat transfer coefficient, 10 in this case, for static air cooling\n",
    "    (related website: https://link.springer.com/article/10.1007/s00231-015-1652-x)\n",
    "    k_f: the cryoscopic constant, For water, KF = 1.853 K·kg/mol;\n",
    "    num_ions: the van 't Hoff factor (number of ion particles per individual molecule of solute, e.g. i = 2 for NaCl, 3 for BaCl2).\n",
    "    (related website: https://en.wikipedia.org/wiki/Freezing-point_depression)\n",
    "    \n",
    "    max_soluability for NaCl: 35.65g/mol = 6.15 mole/kg\n",
    "    A: 686.966 cm^2 = 0.0686966 m^2, surface area of a 500mL water bottle\n",
    "    (related website: https://www.bottleyourbrand.com/answers/sizing/arrowhead-water-bottle-label-size\n",
    "    \n",
    "    T_init: -25Celsius, Initial Temperature of the water bottle, set in Northern Siberia\n",
    "    (related website: https://en.wikipedia.org/wiki/Siberia)\n",
    "    k_water: 0.0387\n",
    "    (related_website: http://jwilson.coe.uga.edu/EMAT6680Fa2014/Gieseking/Exploration%2012/Newton%27s%20Law%20of%20Cooling.htm)\n",
    "    k_ice: twice k_water\n",
    "\"\"\"\n",
    "k_f = 1.853 #K*Kg/mol\n",
    "num_ions = 2 #Number of Ions in NaCl\n",
    "A = 0.0686966\n",
    "T_init = -25\n",
    "T_env = 20\n",
    "T_end = 4 #Temprature \n",
    "latent_heat = 334\n",
    "h = 10\n",
    "k_water, k_ice = 0.0384, 0.0774\n",
    "molality_array = linspace(0, 6.147, 10)\n",
    "freezing_point_array = 0 - molality_array * k_f * num_ions\n",
    "freezing_point_array"
   ]
  },
  {
   "cell_type": "markdown",
   "metadata": {},
   "source": [
    "# Newton's cooling\n",
    "The section below employs Newton's cooling to calculate temperature"
   ]
  },
  {
   "cell_type": "code",
   "execution_count": 55,
   "metadata": {
    "scrolled": true
   },
   "outputs": [
    {
     "data": {
      "text/html": [
       "<div>\n",
       "<style>\n",
       "    .dataframe thead tr:only-child th {\n",
       "        text-align: right;\n",
       "    }\n",
       "\n",
       "    .dataframe thead th {\n",
       "        text-align: left;\n",
       "    }\n",
       "\n",
       "    .dataframe tbody tr th {\n",
       "        vertical-align: top;\n",
       "    }\n",
       "</style>\n",
       "<table border=\"1\" class=\"dataframe\">\n",
       "  <thead>\n",
       "    <tr style=\"text-align: right;\">\n",
       "      <th></th>\n",
       "      <th>value</th>\n",
       "    </tr>\n",
       "  </thead>\n",
       "  <tbody>\n",
       "    <tr>\n",
       "      <th>0</th>\n",
       "      <td>-25.000000</td>\n",
       "    </tr>\n",
       "    <tr>\n",
       "      <th>1</th>\n",
       "      <td>-21.648383</td>\n",
       "    </tr>\n",
       "    <tr>\n",
       "      <th>2</th>\n",
       "      <td>-18.546396</td>\n",
       "    </tr>\n",
       "    <tr>\n",
       "      <th>3</th>\n",
       "      <td>-15.675445</td>\n",
       "    </tr>\n",
       "    <tr>\n",
       "      <th>4</th>\n",
       "      <td>-13.018325</td>\n",
       "    </tr>\n",
       "    <tr>\n",
       "      <th>5</th>\n",
       "      <td>-10.559107</td>\n",
       "    </tr>\n",
       "    <tr>\n",
       "      <th>6</th>\n",
       "      <td>-8.283053</td>\n",
       "    </tr>\n",
       "    <tr>\n",
       "      <th>7</th>\n",
       "      <td>-6.176521</td>\n",
       "    </tr>\n",
       "    <tr>\n",
       "      <th>8</th>\n",
       "      <td>-4.226884</td>\n",
       "    </tr>\n",
       "    <tr>\n",
       "      <th>9</th>\n",
       "      <td>-2.422456</td>\n",
       "    </tr>\n",
       "    <tr>\n",
       "      <th>10</th>\n",
       "      <td>-0.752423</td>\n",
       "    </tr>\n",
       "    <tr>\n",
       "      <th>11</th>\n",
       "      <td>0.793225</td>\n",
       "    </tr>\n",
       "    <tr>\n",
       "      <th>12</th>\n",
       "      <td>2.223753</td>\n",
       "    </tr>\n",
       "    <tr>\n",
       "      <th>13</th>\n",
       "      <td>3.547735</td>\n",
       "    </tr>\n",
       "    <tr>\n",
       "      <th>14</th>\n",
       "      <td>4.773106</td>\n",
       "    </tr>\n",
       "    <tr>\n",
       "      <th>15</th>\n",
       "      <td>5.907211</td>\n",
       "    </tr>\n",
       "    <tr>\n",
       "      <th>16</th>\n",
       "      <td>6.956847</td>\n",
       "    </tr>\n",
       "    <tr>\n",
       "      <th>17</th>\n",
       "      <td>7.928306</td>\n",
       "    </tr>\n",
       "    <tr>\n",
       "      <th>18</th>\n",
       "      <td>8.827410</td>\n",
       "    </tr>\n",
       "    <tr>\n",
       "      <th>19</th>\n",
       "      <td>9.659549</td>\n",
       "    </tr>\n",
       "    <tr>\n",
       "      <th>20</th>\n",
       "      <td>10.429710</td>\n",
       "    </tr>\n",
       "    <tr>\n",
       "      <th>21</th>\n",
       "      <td>11.142509</td>\n",
       "    </tr>\n",
       "    <tr>\n",
       "      <th>22</th>\n",
       "      <td>11.802218</td>\n",
       "    </tr>\n",
       "    <tr>\n",
       "      <th>23</th>\n",
       "      <td>12.412792</td>\n",
       "    </tr>\n",
       "    <tr>\n",
       "      <th>24</th>\n",
       "      <td>12.977890</td>\n",
       "    </tr>\n",
       "    <tr>\n",
       "      <th>25</th>\n",
       "      <td>13.500899</td>\n",
       "    </tr>\n",
       "    <tr>\n",
       "      <th>26</th>\n",
       "      <td>13.984955</td>\n",
       "    </tr>\n",
       "    <tr>\n",
       "      <th>27</th>\n",
       "      <td>14.432958</td>\n",
       "    </tr>\n",
       "    <tr>\n",
       "      <th>28</th>\n",
       "      <td>14.847593</td>\n",
       "    </tr>\n",
       "    <tr>\n",
       "      <th>29</th>\n",
       "      <td>15.231346</td>\n",
       "    </tr>\n",
       "    <tr>\n",
       "      <th>30</th>\n",
       "      <td>15.586518</td>\n",
       "    </tr>\n",
       "    <tr>\n",
       "      <th>31</th>\n",
       "      <td>15.915235</td>\n",
       "    </tr>\n",
       "    <tr>\n",
       "      <th>32</th>\n",
       "      <td>16.219470</td>\n",
       "    </tr>\n",
       "    <tr>\n",
       "      <th>33</th>\n",
       "      <td>16.501046</td>\n",
       "    </tr>\n",
       "    <tr>\n",
       "      <th>34</th>\n",
       "      <td>16.761649</td>\n",
       "    </tr>\n",
       "    <tr>\n",
       "      <th>35</th>\n",
       "      <td>17.002843</td>\n",
       "    </tr>\n",
       "    <tr>\n",
       "      <th>36</th>\n",
       "      <td>17.226072</td>\n",
       "    </tr>\n",
       "    <tr>\n",
       "      <th>37</th>\n",
       "      <td>17.432675</td>\n",
       "    </tr>\n",
       "    <tr>\n",
       "      <th>38</th>\n",
       "      <td>17.623891</td>\n",
       "    </tr>\n",
       "    <tr>\n",
       "      <th>39</th>\n",
       "      <td>17.800864</td>\n",
       "    </tr>\n",
       "    <tr>\n",
       "      <th>40</th>\n",
       "      <td>17.964657</td>\n",
       "    </tr>\n",
       "    <tr>\n",
       "      <th>41</th>\n",
       "      <td>18.116250</td>\n",
       "    </tr>\n",
       "    <tr>\n",
       "      <th>42</th>\n",
       "      <td>18.256552</td>\n",
       "    </tr>\n",
       "    <tr>\n",
       "      <th>43</th>\n",
       "      <td>18.386405</td>\n",
       "    </tr>\n",
       "    <tr>\n",
       "      <th>44</th>\n",
       "      <td>18.506586</td>\n",
       "    </tr>\n",
       "    <tr>\n",
       "      <th>45</th>\n",
       "      <td>18.617816</td>\n",
       "    </tr>\n",
       "    <tr>\n",
       "      <th>46</th>\n",
       "      <td>18.720762</td>\n",
       "    </tr>\n",
       "    <tr>\n",
       "      <th>47</th>\n",
       "      <td>18.816040</td>\n",
       "    </tr>\n",
       "    <tr>\n",
       "      <th>48</th>\n",
       "      <td>18.904222</td>\n",
       "    </tr>\n",
       "    <tr>\n",
       "      <th>49</th>\n",
       "      <td>18.985836</td>\n",
       "    </tr>\n",
       "  </tbody>\n",
       "</table>\n",
       "</div>"
      ],
      "text/plain": [
       "0    -25.000000\n",
       "1    -21.648383\n",
       "2    -18.546396\n",
       "3    -15.675445\n",
       "4    -13.018325\n",
       "5    -10.559107\n",
       "6     -8.283053\n",
       "7     -6.176521\n",
       "8     -4.226884\n",
       "9     -2.422456\n",
       "10    -0.752423\n",
       "11     0.793225\n",
       "12     2.223753\n",
       "13     3.547735\n",
       "14     4.773106\n",
       "15     5.907211\n",
       "16     6.956847\n",
       "17     7.928306\n",
       "18     8.827410\n",
       "19     9.659549\n",
       "20    10.429710\n",
       "21    11.142509\n",
       "22    11.802218\n",
       "23    12.412792\n",
       "24    12.977890\n",
       "25    13.500899\n",
       "26    13.984955\n",
       "27    14.432958\n",
       "28    14.847593\n",
       "29    15.231346\n",
       "30    15.586518\n",
       "31    15.915235\n",
       "32    16.219470\n",
       "33    16.501046\n",
       "34    16.761649\n",
       "35    17.002843\n",
       "36    17.226072\n",
       "37    17.432675\n",
       "38    17.623891\n",
       "39    17.800864\n",
       "40    17.964657\n",
       "41    18.116250\n",
       "42    18.256552\n",
       "43    18.386405\n",
       "44    18.506586\n",
       "45    18.617816\n",
       "46    18.720762\n",
       "47    18.816040\n",
       "48    18.904222\n",
       "49    18.985836\n",
       "dtype: float64"
      ]
     },
     "execution_count": 55,
     "metadata": {},
     "output_type": "execute_result"
    }
   ],
   "source": [
    "ice = System(T_init=-25, T_env=20, T_end=4, k=k_ice, T=0)\n",
    "water = System(T_init=0, T_env=20, T_end=4, k=k_water, T=0)\n",
    "\n",
    "def newton_cooling(system, t):\n",
    "    \"\"\"Calculates the change in temperature over time\"\"\"\n",
    "    e=2.71828\n",
    "    T=system.T\n",
    "    T = system.T_env + (system.T_init - system.T_env)*e**(-system.k*t)\n",
    "    \n",
    "    system.T=T\n",
    "    return system.T\n",
    "\n",
    "def run_simulation(system, t):\n",
    "    results=TimeSeries()\n",
    "    for i in range(t):\n",
    "        x=newton_cooling(system, i)\n",
    "        results[i]=x\n",
    "    return results\n",
    "\n",
    "run_simulation(ice, 50)"
   ]
  },
  {
   "cell_type": "code",
   "execution_count": 8,
   "metadata": {},
   "outputs": [
    {
     "data": {
      "image/png": "[encoded data removed]",
      "text/plain": [
       "<matplotlib.figure.Figure at 0x1c462104cc0>"
      ]
     },
     "metadata": {},
     "output_type": "display_data"
    }
   ],
   "source": [
    "def plot_results(system, t):\n",
    "    y=run_simulation(system, t)\n",
    "    plot(y)\n",
    "    \n",
    "plot_results(ice, 100)\n",
    "plot_results(water, 100)"
   ]
  },
  {
   "cell_type": "markdown",
   "metadata": {},
   "source": [
    "# Melting\n",
    "The section below calculates the time it takes for water at each salt level to melt"
   ]
  },
  {
   "cell_type": "code",
   "execution_count": 9,
   "metadata": {},
   "outputs": [
    {
     "data": {
      "text/plain": [
       "12154.895584352065"
      ]
     },
     "execution_count": 9,
     "metadata": {},
     "output_type": "execute_result"
    }
   ],
   "source": [
    "def melting_at(T_fpt):\n",
    "    dQ = 500 * latent_heat\n",
    "    dt = dQ / (10 * A *(T_fpt - T_env))\n",
    "    return -dt\n",
    "\n",
    "melting_at(0)"
   ]
  },
  {
   "cell_type": "code",
   "execution_count": 22,
   "metadata": {
    "collapsed": true
   },
   "outputs": [],
   "source": [
    "def get_melting_time(freezing_point_array, update_func):\n",
    "    arrary_length = len(freezing_point_array)\n",
    "    sweep_fpt = TimeFrame(index = freezing_point_array, columns=['Time'])\n",
    "    #sweep_fpt.columns('Time(s)')\n",
    "    for i in range(0, arrary_length):\n",
    "        sweep_fpt.loc[freezing_point_array[i]] = update_func(freezing_point_array[i])\n",
    "    return sweep_fpt"
   ]
  },
  {
   "cell_type": "code",
   "execution_count": 23,
   "metadata": {},
   "outputs": [
    {
     "data": {
      "text/plain": [
       "10"
      ]
     },
     "execution_count": 23,
     "metadata": {},
     "output_type": "execute_result"
    }
   ],
   "source": [
    "len(freezing_point_array)"
   ]
  },
  {
   "cell_type": "code",
   "execution_count": 24,
   "metadata": {},
   "outputs": [
    {
     "data": {
      "text/html": [
       "<div>\n",
       "<style>\n",
       "    .dataframe thead tr:only-child th {\n",
       "        text-align: right;\n",
       "    }\n",
       "\n",
       "    .dataframe thead th {\n",
       "        text-align: left;\n",
       "    }\n",
       "\n",
       "    .dataframe tbody tr th {\n",
       "        vertical-align: top;\n",
       "    }\n",
       "</style>\n",
       "<table border=\"1\" class=\"dataframe\">\n",
       "  <thead>\n",
       "    <tr style=\"text-align: right;\">\n",
       "      <th></th>\n",
       "      <th>Time</th>\n",
       "    </tr>\n",
       "  </thead>\n",
       "  <tbody>\n",
       "    <tr>\n",
       "      <th>0.000000</th>\n",
       "      <td>12154.895584</td>\n",
       "    </tr>\n",
       "    <tr>\n",
       "      <th>-2.531198</th>\n",
       "      <td>10789.391300</td>\n",
       "    </tr>\n",
       "    <tr>\n",
       "      <th>-5.062396</th>\n",
       "      <td>9699.707549</td>\n",
       "    </tr>\n",
       "    <tr>\n",
       "      <th>-7.593594</th>\n",
       "      <td>8809.940151</td>\n",
       "    </tr>\n",
       "    <tr>\n",
       "      <th>-10.124792</th>\n",
       "      <td>8069.695940</td>\n",
       "    </tr>\n",
       "    <tr>\n",
       "      <th>-12.655990</th>\n",
       "      <td>7444.205847</td>\n",
       "    </tr>\n",
       "    <tr>\n",
       "      <th>-15.187188</th>\n",
       "      <td>6908.705285</td>\n",
       "    </tr>\n",
       "    <tr>\n",
       "      <th>-17.718386</th>\n",
       "      <td>6445.077255</td>\n",
       "    </tr>\n",
       "    <tr>\n",
       "      <th>-20.249584</th>\n",
       "      <td>6039.762093</td>\n",
       "    </tr>\n",
       "    <tr>\n",
       "      <th>-22.780782</th>\n",
       "      <td>5682.409258</td>\n",
       "    </tr>\n",
       "  </tbody>\n",
       "</table>\n",
       "</div>"
      ],
      "text/plain": [
       "                    Time\n",
       " 0.000000   12154.895584\n",
       "-2.531198   10789.391300\n",
       "-5.062396    9699.707549\n",
       "-7.593594    8809.940151\n",
       "-10.124792   8069.695940\n",
       "-12.655990   7444.205847\n",
       "-15.187188   6908.705285\n",
       "-17.718386   6445.077255\n",
       "-20.249584   6039.762093\n",
       "-22.780782   5682.409258"
      ]
     },
     "execution_count": 24,
     "metadata": {},
     "output_type": "execute_result"
    }
   ],
   "source": [
    "results_in_seconds = get_melting_time(freezing_point_array, melting_at)\n",
    "results_in_seconds"
   ]
  },
  {
   "cell_type": "code",
   "execution_count": 44,
   "metadata": {},
   "outputs": [
    {
     "data": {
      "image/png": "[encoded data removed]",
      "text/plain": [
       "<matplotlib.figure.Figure at 0x1c462f17240>"
      ]
     },
     "metadata": {},
     "output_type": "display_data"
    }
   ],
   "source": [
    "plot(molality_array, results_in_seconds/60, 'bo:')\n",
    "decorate(xlabel = 'Molality(mol/kg)',\n",
    "         ylabel = 'Time until fully melted(min)',\n",
    "         legend = False)"
   ]
  },
  {
   "cell_type": "code",
   "execution_count": 38,
   "metadata": {},
   "outputs": [
    {
     "data": {
      "text/plain": [
       "array([-1365.50428403, -1089.68375093,  -889.76739853,  -740.24421115,\n",
       "        -625.49009303,  -535.50056204,  -463.62803008,  -405.31516193,\n",
       "        -357.35283496])"
      ]
     },
     "execution_count": 38,
     "metadata": {},
     "output_type": "execute_result"
    }
   ],
   "source": [
    "a = np.array(results_in_seconds.Time.values)\n",
    "np.diff(results_in_seconds.Time.values)"
   ]
  },
  {
   "cell_type": "code",
   "execution_count": 39,
   "metadata": {},
   "outputs": [
    {
     "data": {
      "text/plain": [
       "array([ 12154.89558435,  10789.39130032,   9699.70754939,   8809.94015086,\n",
       "         8069.69593971,   7444.20584668,   6908.70528463,   6445.07725455,\n",
       "         6039.76209262,   5682.40925767])"
      ]
     },
     "execution_count": 39,
     "metadata": {},
     "output_type": "execute_result"
    }
   ],
   "source": [
    "results_in_seconds.Time.values"
   ]
  },
  {
   "cell_type": "markdown",
   "metadata": {
    "collapsed": true
   },
   "source": [
    "# Newton's Cooling(stop at Freezing Pts)"
   ]
  },
  {
   "cell_type": "code",
   "execution_count": 69,
   "metadata": {},
   "outputs": [],
   "source": [
    "def run_simulation_ice(system, t, freezing_point_array):\n",
    "    results=TimeSeries()\n",
    "    for freezing_pt in freezing_point_array:\n",
    "        recorded = False\n",
    "        for i in range(t):\n",
    "            x=newton_cooling(system, i)\n",
    "            if x > freezing_pt and not recorded:\n",
    "                results[freezing_pt] = i\n",
    "                recorded = True\n",
    "    return results"
   ]
  },
  {
   "cell_type": "code",
   "execution_count": 70,
   "metadata": {},
   "outputs": [
    {
     "name": "stdout",
     "output_type": "stream",
     "text": [
      "Wall time: 143 ms\n"
     ]
    },
    {
     "data": {
      "text/html": [
       "<div>\n",
       "<style>\n",
       "    .dataframe thead tr:only-child th {\n",
       "        text-align: right;\n",
       "    }\n",
       "\n",
       "    .dataframe thead th {\n",
       "        text-align: left;\n",
       "    }\n",
       "\n",
       "    .dataframe tbody tr th {\n",
       "        vertical-align: top;\n",
       "    }\n",
       "</style>\n",
       "<table border=\"1\" class=\"dataframe\">\n",
       "  <thead>\n",
       "    <tr style=\"text-align: right;\">\n",
       "      <th></th>\n",
       "      <th>value</th>\n",
       "    </tr>\n",
       "  </thead>\n",
       "  <tbody>\n",
       "    <tr>\n",
       "      <th>0.000000</th>\n",
       "      <td>11</td>\n",
       "    </tr>\n",
       "    <tr>\n",
       "      <th>-2.531198</th>\n",
       "      <td>9</td>\n",
       "    </tr>\n",
       "    <tr>\n",
       "      <th>-5.062396</th>\n",
       "      <td>8</td>\n",
       "    </tr>\n",
       "    <tr>\n",
       "      <th>-7.593594</th>\n",
       "      <td>7</td>\n",
       "    </tr>\n",
       "    <tr>\n",
       "      <th>-10.124792</th>\n",
       "      <td>6</td>\n",
       "    </tr>\n",
       "    <tr>\n",
       "      <th>-12.655990</th>\n",
       "      <td>5</td>\n",
       "    </tr>\n",
       "    <tr>\n",
       "      <th>-15.187188</th>\n",
       "      <td>4</td>\n",
       "    </tr>\n",
       "    <tr>\n",
       "      <th>-17.718386</th>\n",
       "      <td>3</td>\n",
       "    </tr>\n",
       "    <tr>\n",
       "      <th>-20.249584</th>\n",
       "      <td>2</td>\n",
       "    </tr>\n",
       "    <tr>\n",
       "      <th>-22.780782</th>\n",
       "      <td>1</td>\n",
       "    </tr>\n",
       "  </tbody>\n",
       "</table>\n",
       "</div>"
      ],
      "text/plain": [
       " 0.000000     11\n",
       "-2.531198      9\n",
       "-5.062396      8\n",
       "-7.593594      7\n",
       "-10.124792     6\n",
       "-12.655990     5\n",
       "-15.187188     4\n",
       "-17.718386     3\n",
       "-20.249584     2\n",
       "-22.780782     1\n",
       "dtype: int64"
      ]
     },
     "execution_count": 70,
     "metadata": {},
     "output_type": "execute_result"
    }
   ],
   "source": [
    "ice = System(T_init=-25, T_env=20, T_end=4, k=k_ice, T=0)\n",
    "%time run_simulation_ice(ice, 100, freezing_point_array)"
   ]
  },
  {
   "cell_type": "code",
   "execution_count": null,
   "metadata": {
    "collapsed": true
   },
   "outputs": [],
   "source": []
  },
  {
   "cell_type": "code",
   "execution_count": null,
   "metadata": {
    "collapsed": true
   },
   "outputs": [],
   "source": []
  },
  {
   "cell_type": "code",
   "execution_count": null,
   "metadata": {
    "collapsed": true
   },
   "outputs": [],
   "source": []
  },
  {
   "cell_type": "code",
   "execution_count": null,
   "metadata": {
    "collapsed": true
   },
   "outputs": [],
   "source": []
  },
  {
   "cell_type": "code",
   "execution_count": null,
   "metadata": {
    "collapsed": true
   },
   "outputs": [],
   "source": []
  },
  {
   "cell_type": "code",
   "execution_count": null,
   "metadata": {
    "collapsed": true
   },
   "outputs": [],
   "source": []
  },
  {
   "cell_type": "code",
   "execution_count": null,
   "metadata": {
    "collapsed": true
   },
   "outputs": [],
   "source": []
  },
  {
   "cell_type": "code",
   "execution_count": 32,
   "metadata": {
    "collapsed": true
   },
   "outputs": [],
   "source": [
    "coffee = make_system_coffee()\n",
    "run_simulation(coffee, update)"
   ]
  },
  {
   "cell_type": "code",
   "execution_count": 24,
   "metadata": {
    "scrolled": true
   },
   "outputs": [
    {
     "data": {
      "text/plain": [
       "67.584544488161882"
      ]
     },
     "execution_count": 24,
     "metadata": {},
     "output_type": "execute_result"
    }
   ],
   "source": [
    "coffee.results.temp[30]"
   ]
  },
  {
   "cell_type": "code",
   "execution_count": 37,
   "metadata": {
    "collapsed": true
   },
   "outputs": [],
   "source": [
    "def update(state, system, t, T_sweep):\n",
    "    unpack(system)\n",
    "    if 5 < t < 30:\n",
    "        T_amb = T_sweep\n",
    "    else:\n",
    "        T_amb = T_env\n",
    "    T = state.temp\n",
    "    T += -r * (T - T_amb) * dt\n",
    "\n",
    "    return State(temp=T)"
   ]
  },
  {
   "cell_type": "code",
   "execution_count": 38,
   "metadata": {
    "collapsed": true
   },
   "outputs": [],
   "source": [
    "def run_simulation_sweep(system, update_func):\n",
    "    \"\"\"Runs a simulation of the system.\n",
    "    \n",
    "    Add a TimeFrame to the System: results\n",
    "    \n",
    "    system: System object\n",
    "    update_func: function that updates state\n",
    "    \"\"\"\n",
    "    unpack(system)\n",
    "    ts = linrange(t0, t_end-dt, dt)\n",
    "    sweep = SweepSeries()\n",
    "    for T_sweep in linrange(0, 21):\n",
    "        frame = TimeFrame(columns=init.index)\n",
    "        frame.loc[t0] = init\n",
    "        for t in ts:\n",
    "            frame.loc[t+dt] = update_func(frame.loc[t], system, t, T_sweep)\n",
    "        sweep[T_sweep] = frame.temp[t_end]\n",
    "    \n",
    "    system.results = sweep"
   ]
  },
  {
   "cell_type": "code",
   "execution_count": 39,
   "metadata": {
    "collapsed": true
   },
   "outputs": [],
   "source": [
    "coffee = make_system_coffee()\n",
    "run_simulation_sweep(coffee, update)"
   ]
  },
  {
   "cell_type": "code",
   "execution_count": 46,
   "metadata": {},
   "outputs": [
    {
     "data": {
      "image/png": "[encoded data removed]",
      "text/plain": [
       "<matplotlib.figure.Figure at 0x1ad979f7da0>"
      ]
     },
     "metadata": {},
     "output_type": "display_data"
    }
   ],
   "source": [
    "plot(coffee.results, label = 'Coffee')\n",
    "decorate(xlabel = 'Outside Temperature',\n",
    "         ylabel = 'Final Temprature',\n",
    "         legend = 'True')"
   ]
  },
  {
   "cell_type": "code",
   "execution_count": 78,
   "metadata": {
    "collapsed": true
   },
   "outputs": [],
   "source": [
    "def run_and_mix(t_add, t_total=30):\n",
    "    coffee = make_system(T_init=90, t_end=t_add, \n",
    "                         r=r_coffee, volume=300)\n",
    "    run_simulation(coffee, update)\n",
    "\n",
    "    milk = make_system(T_init=5, t_end=t_add, \n",
    "                       r=r_milk, volume=50)\n",
    "    run_simulation(milk, update)\n",
    "    \n",
    "    mixture = mix(coffee, milk)\n",
    "    mixture.t_end = t_total - t_add\n",
    "    run_simulation(mixture, update)\n",
    "\n",
    "    return final_temp(mixture)\n",
    "\n",
    "def mix(s1, s2):\n",
    "    assert s1.t_end == s2.t_end\n",
    "    \n",
    "    volume = s1.volume + s2.volume\n",
    "    \n",
    "    temp = (s1.volume * final_temp(s1) + \n",
    "            s2.volume * final_temp(s2)) / volume\n",
    "    \n",
    "    mixture = make_system(T_init=temp,\n",
    "                          volume=volume,\n",
    "                          r=s1.r,\n",
    "                          t_end = s1.t_end)\n",
    "    return mixture\n",
    "\n",
    "def make_system(T_init=90, r=0.01, volume=300, t_end=30):\n",
    "    init = State(temp=T_init)\n",
    "    \n",
    "    system = System(init=init,\n",
    "                    volume=volume,\n",
    "                    r=r,\n",
    "                    T_env=22, \n",
    "                    t0=0,\n",
    "                    t_end=t_end,\n",
    "                    dt=1)\n",
    "    return system\n",
    "\n",
    "def final_temp(system):\n",
    "    if hasattr(system, 'results'):\n",
    "        return system.results.temp[system.t_end]\n",
    "    else:\n",
    "        return system.init.temp"
   ]
  },
  {
   "cell_type": "code",
   "execution_count": 89,
   "metadata": {
    "collapsed": true
   },
   "outputs": [],
   "source": [
    "def run_simulation_sweep(s1, s2, update_func):\n",
    "    system = mix(s1, s2)\n",
    "    unpack(system)\n",
    "    ts = linrange(t0, t_end-dt, dt)\n",
    "    sweep = SweepSeries()\n",
    "    for T_sweep in linrange(0, 21):\n",
    "        frame = TimeFrame(columns=init.index)\n",
    "        frame.loc[t0] = init\n",
    "        for t in ts:\n",
    "            frame.loc[t+dt] = update_func(frame.loc[t], system, t, T_sweep)\n",
    "        sweep[T_sweep] = frame.temp[t_end]\n",
    "    \n",
    "    return sweep"
   ]
  },
  {
   "cell_type": "code",
   "execution_count": 90,
   "metadata": {
    "collapsed": true
   },
   "outputs": [],
   "source": [
    "milk = make_system_milk()\n",
    "coffee = make_system_coffee()"
   ]
  },
  {
   "cell_type": "code",
   "execution_count": 91,
   "metadata": {},
   "outputs": [
    {
     "data": {
      "image/png": "[encoded data removed]",
      "text/plain": [
       "<matplotlib.figure.Figure at 0x1ad97b1f9e8>"
      ]
     },
     "metadata": {},
     "output_type": "display_data"
    }
   ],
   "source": [
    "plot(run_simulation_sweep(coffee, milk, update), label = 'Coffee')\n",
    "decorate(xlabel = 'Outside Temperature',\n",
    "         ylabel = 'Final Temprature',\n",
    "         legend = True)"
   ]
  },
  {
   "cell_type": "code",
   "execution_count": null,
   "metadata": {
    "collapsed": true
   },
   "outputs": [],
   "source": []
  }
 ],
 "metadata": {
  "kernelspec": {
   "display_name": "Python 3",
   "language": "python",
   "name": "python3"
  },
  "language_info": {
   "codemirror_mode": {
    "name": "ipython",
    "version": 3
   },
   "file_extension": ".py",
   "mimetype": "text/x-python",
   "name": "python",
   "nbconvert_exporter": "python",
   "pygments_lexer": "ipython3",
   "version": "3.6.1"
  }
 },
 "nbformat": 4,
 "nbformat_minor": 2
}
