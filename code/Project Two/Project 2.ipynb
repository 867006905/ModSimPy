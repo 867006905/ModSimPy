{
 "cells": [
  {
   "cell_type": "code",
   "execution_count": 2,
   "metadata": {
    "collapsed": true
   },
   "outputs": [],
   "source": [
    "%matplotlib inline\n",
    "from modsim import *"
   ]
  },
  {
   "cell_type": "code",
   "execution_count": 6,
   "metadata": {},
   "outputs": [
    {
     "data": {
      "text/plain": [
       "array([  0.      ,  -2.531198,  -5.062396,  -7.593594, -10.124792,\n",
       "       -12.65599 , -15.187188, -17.718386, -20.249584, -22.780782])"
      ]
     },
     "execution_count": 6,
     "metadata": {},
     "output_type": "execute_result"
    }
   ],
   "source": [
    "\"\"\"  Team 4\n",
    "\n",
    "    h: heat transfer coefficient, 10 in this case, for static air cooling\n",
    "    (related website: https://link.springer.com/article/10.1007/s00231-015-1652-x)\n",
    "    k_f: the cryoscopic constant, For water, KF = 1.853 K·kg/mol;\n",
    "    num_ions: the van 't Hoff factor (number of ion particles per individual molecule of solute, e.g. i = 2 for NaCl, 3 for BaCl2).\n",
    "    (related website: https://en.wikipedia.org/wiki/Freezing-point_depression)\n",
    "    \n",
    "    max_soluability for NaCl: 35.65g/mol = 6.15 mole/kg\n",
    "    A: 686.966 cm^2 = 0.0686966 m^2, surface area of a 500mL water bottle\n",
    "    (related website: https://www.bottleyourbrand.com/answers/sizing/arrowhead-water-bottle-label-size\n",
    "    \n",
    "    T_init: -25Celsius, Initial Temperature of the water bottle, set in Northern Siberia\n",
    "    (related website: https://en.wikipedia.org/wiki/Siberia)\n",
    "    k_water: 0.0387\n",
    "    (related_website: http://jwilson.coe.uga.edu/EMAT6680Fa2014/Gieseking/Exploration%2012/Newton%27s%20Law%20of%20Cooling.htm)\n",
    "    k_ice: twice k_water\n",
    "\"\"\"\n",
    "k_f = 1.853 #K*Kg/mol\n",
    "num_ions = 2 #Number of Ions in NaCl\n",
    "A = 0.0686966\n",
    "T_init = -25\n",
    "T_env = 20\n",
    "T_end = 4 #Temprature \n",
    "k_water, k_ice = 0.0387, 0.0774\n",
    "molality_array = linspace(0, 6.147, 10)\n",
    "freezing_point_array = 0 - molality_array * k_f * num_ions\n",
    "freezing_point_array"
   ]
  },
  {
   "cell_type": "code",
   "execution_count": 77,
   "metadata": {},
   "outputs": [],
   "source": [
    "params = h, A, T_init, T_env, T_end, k_water, k_ice\n",
    "def make_system(h, A, T_init, T_env, T_end, k_water, k_ice):\n",
    "    system = System(h = h, A = A, T_init = T_init, T_env = T_env,\n",
    "                    T_end = T_end, k_water = k_water, k_ice = k_ice)\n",
    "    return system"
   ]
  },
  {
   "cell_type": "code",
   "execution_count": 81,
   "metadata": {},
   "outputs": [
    {
     "data": {
      "text/plain": [
       "12154.895584352065"
      ]
     },
     "execution_count": 81,
     "metadata": {},
     "output_type": "execute_result"
    }
   ],
   "source": [
    "latent_heat = 334\n",
    "h = 10\n",
    "def melting_at(T_fpt):\n",
    "    dQ = 500 * latent_heat\n",
    "    dt = dQ / (10 * A *(T_fpt - T_env))\n",
    "    return -dt\n",
    "\n",
    "melting_at(0)"
   ]
  },
  {
   "cell_type": "code",
   "execution_count": 94,
   "metadata": {},
   "outputs": [],
   "source": [
    "def get_melting_time(freezing_point_array, update_func):\n",
    "    arrary_length = len(freezing_point_array)\n",
    "    sweep_fpt = TimeFrame(index = freezing_point_array, columns=['Time(s)'])\n",
    "    #sweep_fpt.columns('Time(s)')\n",
    "    for i in range(0, arrary_length):\n",
    "        sweep_fpt.loc[freezing_point_array[i]] = update_func(freezing_point_array[i])\n",
    "    return sweep_fpt"
   ]
  },
  {
   "cell_type": "code",
   "execution_count": 95,
   "metadata": {},
   "outputs": [
    {
     "data": {
      "text/plain": [
       "10"
      ]
     },
     "execution_count": 95,
     "metadata": {},
     "output_type": "execute_result"
    }
   ],
   "source": [
    "len(freezing_point_array)"
   ]
  },
  {
   "cell_type": "code",
   "execution_count": 96,
   "metadata": {},
   "outputs": [
    {
     "data": {
      "text/html": [
       "<div>\n",
       "<style>\n",
       "    .dataframe thead tr:only-child th {\n",
       "        text-align: right;\n",
       "    }\n",
       "\n",
       "    .dataframe thead th {\n",
       "        text-align: left;\n",
       "    }\n",
       "\n",
       "    .dataframe tbody tr th {\n",
       "        vertical-align: top;\n",
       "    }\n",
       "</style>\n",
       "<table border=\"1\" class=\"dataframe\">\n",
       "  <thead>\n",
       "    <tr style=\"text-align: right;\">\n",
       "      <th></th>\n",
       "      <th>Time(s)</th>\n",
       "    </tr>\n",
       "  </thead>\n",
       "  <tbody>\n",
       "    <tr>\n",
       "      <th>0.000000</th>\n",
       "      <td>12154.895584</td>\n",
       "    </tr>\n",
       "    <tr>\n",
       "      <th>-2.531198</th>\n",
       "      <td>10789.391300</td>\n",
       "    </tr>\n",
       "    <tr>\n",
       "      <th>-5.062396</th>\n",
       "      <td>9699.707549</td>\n",
       "    </tr>\n",
       "    <tr>\n",
       "      <th>-7.593594</th>\n",
       "      <td>8809.940151</td>\n",
       "    </tr>\n",
       "    <tr>\n",
       "      <th>-10.124792</th>\n",
       "      <td>8069.695940</td>\n",
       "    </tr>\n",
       "    <tr>\n",
       "      <th>-12.655990</th>\n",
       "      <td>7444.205847</td>\n",
       "    </tr>\n",
       "    <tr>\n",
       "      <th>-15.187188</th>\n",
       "      <td>6908.705285</td>\n",
       "    </tr>\n",
       "    <tr>\n",
       "      <th>-17.718386</th>\n",
       "      <td>6445.077255</td>\n",
       "    </tr>\n",
       "    <tr>\n",
       "      <th>-20.249584</th>\n",
       "      <td>6039.762093</td>\n",
       "    </tr>\n",
       "    <tr>\n",
       "      <th>-22.780782</th>\n",
       "      <td>5682.409258</td>\n",
       "    </tr>\n",
       "  </tbody>\n",
       "</table>\n",
       "</div>"
      ],
      "text/plain": [
       "                 Time(s)\n",
       " 0.000000   12154.895584\n",
       "-2.531198   10789.391300\n",
       "-5.062396    9699.707549\n",
       "-7.593594    8809.940151\n",
       "-10.124792   8069.695940\n",
       "-12.655990   7444.205847\n",
       "-15.187188   6908.705285\n",
       "-17.718386   6445.077255\n",
       "-20.249584   6039.762093\n",
       "-22.780782   5682.409258"
      ]
     },
     "execution_count": 96,
     "metadata": {},
     "output_type": "execute_result"
    }
   ],
   "source": [
    "results_in_seconds = get_melting_time(freezing_point_array, melting_at)\n",
    "results_in_seconds"
   ]
  },
  {
   "cell_type": "code",
   "execution_count": 80,
   "metadata": {},
   "outputs": [
    {
     "data": {
      "image/png": "[encoded data removed]",
      "text/plain": [
       "<matplotlib.figure.Figure at 0x15057f8b5f8>"
      ]
     },
     "metadata": {},
     "output_type": "display_data"
    }
   ],
   "source": [
    "plot(molality_array, results_in_seconds, 'bo:')"
   ]
  },
  {
   "cell_type": "code",
   "execution_count": null,
   "metadata": {},
   "outputs": [],
   "source": []
  },
  {
   "cell_type": "code",
   "execution_count": null,
   "metadata": {
    "collapsed": true
   },
   "outputs": [],
   "source": []
  },
  {
   "cell_type": "code",
   "execution_count": null,
   "metadata": {
    "collapsed": true
   },
   "outputs": [],
   "source": []
  },
  {
   "cell_type": "code",
   "execution_count": 54,
   "metadata": {
    "collapsed": true
   },
   "outputs": [],
   "source": [
    "def make_system_coffee(T_init=90, r=0.01, volume=300, t_end=30):\n",
    "    init = State(temp=T_init)\n",
    "    \n",
    "    system = System(init=init,\n",
    "                    volume=volume,\n",
    "                    r=r,\n",
    "                    T_env=22, \n",
    "                    t0=0,\n",
    "                    t_end=t_end,\n",
    "                    dt=1)\n",
    "    return system\n",
    "\n",
    "def make_system_milk(T_init = 5, t_end = 30, r = 0.5, volume = 50):\n",
    "    init = State(temp = T_init)\n",
    "    system = System(init = init,\n",
    "                    t0 = 0,\n",
    "                    t_end = t_end,\n",
    "                    r = r,\n",
    "                    volume = volume,\n",
    "                    T_env = 22,\n",
    "                    dt = 1)\n",
    "    return system"
   ]
  },
  {
   "cell_type": "code",
   "execution_count": 30,
   "metadata": {
    "collapsed": true
   },
   "outputs": [],
   "source": [
    "def update(state, system, t):\n",
    "    unpack(system)\n",
    "    if 5 < t < 30:\n",
    "        T_amb = 0\n",
    "    else:\n",
    "        T_amb = T_env\n",
    "    T = state.temp\n",
    "    T += -r * (T - T_amb) * dt\n",
    "\n",
    "    return State(temp=T)"
   ]
  },
  {
   "cell_type": "code",
   "execution_count": 31,
   "metadata": {
    "collapsed": true
   },
   "outputs": [],
   "source": [
    "def run_simulation(system, update_func):\n",
    "    \"\"\"Runs a simulation of the system.\n",
    "    \n",
    "    Add a TimeFrame to the System: results\n",
    "    \n",
    "    system: System object\n",
    "    update_func: function that updates state\n",
    "    \"\"\"\n",
    "    unpack(system)\n",
    "    \n",
    "    frame = TimeFrame(columns=init.index)\n",
    "    frame.loc[t0] = init\n",
    "    ts = linrange(t0, t_end-dt, dt)\n",
    "    \n",
    "    for t in ts:\n",
    "        frame.loc[t+dt] = update_func(frame.loc[t], system, t)\n",
    "    \n",
    "    system.results = frame"
   ]
  },
  {
   "cell_type": "code",
   "execution_count": 32,
   "metadata": {
    "collapsed": true
   },
   "outputs": [],
   "source": [
    "coffee = make_system_coffee()\n",
    "run_simulation(coffee, update)"
   ]
  },
  {
   "cell_type": "code",
   "execution_count": 24,
   "metadata": {
    "scrolled": true
   },
   "outputs": [
    {
     "data": {
      "text/plain": [
       "67.584544488161882"
      ]
     },
     "execution_count": 24,
     "metadata": {},
     "output_type": "execute_result"
    }
   ],
   "source": [
    "coffee.results.temp[30]"
   ]
  },
  {
   "cell_type": "code",
   "execution_count": 37,
   "metadata": {
    "collapsed": true
   },
   "outputs": [],
   "source": [
    "def update(state, system, t, T_sweep):\n",
    "    unpack(system)\n",
    "    if 5 < t < 30:\n",
    "        T_amb = T_sweep\n",
    "    else:\n",
    "        T_amb = T_env\n",
    "    T = state.temp\n",
    "    T += -r * (T - T_amb) * dt\n",
    "\n",
    "    return State(temp=T)"
   ]
  },
  {
   "cell_type": "code",
   "execution_count": 38,
   "metadata": {
    "collapsed": true
   },
   "outputs": [],
   "source": [
    "def run_simulation_sweep(system, update_func):\n",
    "    \"\"\"Runs a simulation of the system.\n",
    "    \n",
    "    Add a TimeFrame to the System: results\n",
    "    \n",
    "    system: System object\n",
    "    update_func: function that updates state\n",
    "    \"\"\"\n",
    "    unpack(system)\n",
    "    ts = linrange(t0, t_end-dt, dt)\n",
    "    sweep = SweepSeries()\n",
    "    for T_sweep in linrange(0, 21):\n",
    "        frame = TimeFrame(columns=init.index)\n",
    "        frame.loc[t0] = init\n",
    "        for t in ts:\n",
    "            frame.loc[t+dt] = update_func(frame.loc[t], system, t, T_sweep)\n",
    "        sweep[T_sweep] = frame.temp[t_end]\n",
    "    \n",
    "    system.results = sweep"
   ]
  },
  {
   "cell_type": "code",
   "execution_count": 39,
   "metadata": {
    "collapsed": true
   },
   "outputs": [],
   "source": [
    "coffee = make_system_coffee()\n",
    "run_simulation_sweep(coffee, update)"
   ]
  },
  {
   "cell_type": "code",
   "execution_count": 46,
   "metadata": {},
   "outputs": [
    {
     "data": {
      "image/png": "[encoded data removed]",
      "text/plain": [
       "<matplotlib.figure.Figure at 0x1ad979f7da0>"
      ]
     },
     "metadata": {},
     "output_type": "display_data"
    }
   ],
   "source": [
    "plot(coffee.results, label = 'Coffee')\n",
    "decorate(xlabel = 'Outside Temperature',\n",
    "         ylabel = 'Final Temprature',\n",
    "         legend = 'True')"
   ]
  },
  {
   "cell_type": "code",
   "execution_count": 78,
   "metadata": {
    "collapsed": true
   },
   "outputs": [],
   "source": [
    "def run_and_mix(t_add, t_total=30):\n",
    "    coffee = make_system(T_init=90, t_end=t_add, \n",
    "                         r=r_coffee, volume=300)\n",
    "    run_simulation(coffee, update)\n",
    "\n",
    "    milk = make_system(T_init=5, t_end=t_add, \n",
    "                       r=r_milk, volume=50)\n",
    "    run_simulation(milk, update)\n",
    "    \n",
    "    mixture = mix(coffee, milk)\n",
    "    mixture.t_end = t_total - t_add\n",
    "    run_simulation(mixture, update)\n",
    "\n",
    "    return final_temp(mixture)\n",
    "\n",
    "def mix(s1, s2):\n",
    "    assert s1.t_end == s2.t_end\n",
    "    \n",
    "    volume = s1.volume + s2.volume\n",
    "    \n",
    "    temp = (s1.volume * final_temp(s1) + \n",
    "            s2.volume * final_temp(s2)) / volume\n",
    "    \n",
    "    mixture = make_system(T_init=temp,\n",
    "                          volume=volume,\n",
    "                          r=s1.r,\n",
    "                          t_end = s1.t_end)\n",
    "    return mixture\n",
    "\n",
    "def make_system(T_init=90, r=0.01, volume=300, t_end=30):\n",
    "    init = State(temp=T_init)\n",
    "    \n",
    "    system = System(init=init,\n",
    "                    volume=volume,\n",
    "                    r=r,\n",
    "                    T_env=22, \n",
    "                    t0=0,\n",
    "                    t_end=t_end,\n",
    "                    dt=1)\n",
    "    return system\n",
    "\n",
    "def final_temp(system):\n",
    "    if hasattr(system, 'results'):\n",
    "        return system.results.temp[system.t_end]\n",
    "    else:\n",
    "        return system.init.temp"
   ]
  },
  {
   "cell_type": "code",
   "execution_count": 89,
   "metadata": {
    "collapsed": true
   },
   "outputs": [],
   "source": [
    "def run_simulation_sweep(s1, s2, update_func):\n",
    "    system = mix(s1, s2)\n",
    "    unpack(system)\n",
    "    ts = linrange(t0, t_end-dt, dt)\n",
    "    sweep = SweepSeries()\n",
    "    for T_sweep in linrange(0, 21):\n",
    "        frame = TimeFrame(columns=init.index)\n",
    "        frame.loc[t0] = init\n",
    "        for t in ts:\n",
    "            frame.loc[t+dt] = update_func(frame.loc[t], system, t, T_sweep)\n",
    "        sweep[T_sweep] = frame.temp[t_end]\n",
    "    \n",
    "    return sweep"
   ]
  },
  {
   "cell_type": "code",
   "execution_count": 90,
   "metadata": {
    "collapsed": true
   },
   "outputs": [],
   "source": [
    "milk = make_system_milk()\n",
    "coffee = make_system_coffee()"
   ]
  },
  {
   "cell_type": "code",
   "execution_count": 91,
   "metadata": {},
   "outputs": [
    {
     "data": {
      "image/png": "[encoded data removed]",
      "text/plain": [
       "<matplotlib.figure.Figure at 0x1ad97b1f9e8>"
      ]
     },
     "metadata": {},
     "output_type": "display_data"
    }
   ],
   "source": [
    "plot(run_simulation_sweep(coffee, milk, update), label = 'Coffee')\n",
    "decorate(xlabel = 'Outside Temperature',\n",
    "         ylabel = 'Final Temprature',\n",
    "         legend = True)"
   ]
  },
  {
   "cell_type": "code",
   "execution_count": null,
   "metadata": {
    "collapsed": true
   },
   "outputs": [],
   "source": []
  }
 ],
 "metadata": {
  "kernelspec": {
   "display_name": "Python 3",
   "language": "python",
   "name": "python3"
  },
  "language_info": {
   "codemirror_mode": {
    "name": "ipython",
    "version": 3
   },
   "file_extension": ".py",
   "mimetype": "text/x-python",
   "name": "python",
   "nbconvert_exporter": "python",
   "pygments_lexer": "ipython3",
   "version": "3.6.1"
  }
 },
 "nbformat": 4,
 "nbformat_minor": 2
}
